{
 "cells": [
  {
   "attachments": {},
   "cell_type": "markdown",
   "metadata": {},
   "source": [
    "Copyright (c) MONAI Consortium  \n",
    "Licensed under the Apache License, Version 2.0 (the \"License\");  \n",
    "you may not use this file except in compliance with the License.  \n",
    "You may obtain a copy of the License at  \n",
    "&nbsp;&nbsp;&nbsp;&nbsp;http://www.apache.org/licenses/LICENSE-2.0  \n",
    "Unless required by applicable law or agreed to in writing, software  \n",
    "distributed under the License is distributed on an \"AS IS\" BASIS,  \n",
    "WITHOUT WARRANTIES OR CONDITIONS OF ANY KIND, either express or implied.  \n",
    "See the License for the specific language governing permissions and  \n",
    "limitations under the License.\n",
    "\n",
    "# MONAI 101 tutorial\n",
    "\n",
    "In this tutorial, we will introduce how simple it can be to run an end-to-end classification pipeline with MONAI.\n",
    "\n",
    "These steps will be included in this tutorial, and each of them will take only a few lines of code:\n",
    "- Dataset download\n",
    "- Data pre-processing\n",
    "- Define a DenseNet-121 and run training\n",
    "- Check the results on test dataset\n",
    "\n",
    "This tutorial will use about 7GB of GPU memory and 10 minutes to run.\n",
    "\n",
    "[![Open In Colab](https://colab.research.google.com/assets/colab-badge.svg)](https://colab.research.google.com/github/Project-MONAI/tutorials/blob/main/2d_classification/monai_101.ipynb)"
   ]
  },
  {
   "cell_type": "markdown",
   "metadata": {},
   "source": [
    "## Setup environment"
   ]
  },
  {
   "cell_type": "code",
   "execution_count": 1,
   "metadata": {},
   "outputs": [],
   "source": [
    "!python -c \"import monai\" || pip install -q \"monai-weekly[ignite, tqdm]\""
   ]
  },
  {
   "attachments": {},
   "cell_type": "markdown",
   "metadata": {},
   "source": [
    "## Setup imports"
   ]
  },
  {
   "cell_type": "code",
   "execution_count": 2,
   "metadata": {},
   "outputs": [
    {
     "name": "stdout",
     "output_type": "stream",
     "text": [
      "MONAI version: 1.4.dev2428\n",
      "Numpy version: 1.26.4\n",
      "Pytorch version: 2.3.1\n",
      "MONAI flags: HAS_EXT = False, USE_COMPILED = False, USE_META_DICT = False\n",
      "MONAI rev id: 2d242d8f1b2876133bcafbe7fa5d967728a74998\n",
      "MONAI __file__: /opt/anaconda3/envs/monai/lib/python3.12/site-packages/monai/__init__.py\n",
      "\n",
      "Optional dependencies:\n",
      "Pytorch Ignite version: 0.5.0.post2\n",
      "ITK version: NOT INSTALLED or UNKNOWN VERSION.\n",
      "Nibabel version: NOT INSTALLED or UNKNOWN VERSION.\n",
      "scikit-image version: NOT INSTALLED or UNKNOWN VERSION.\n",
      "scipy version: 1.14.0\n",
      "Pillow version: 10.4.0\n",
      "Tensorboard version: 2.17.0\n",
      "gdown version: NOT INSTALLED or UNKNOWN VERSION.\n",
      "TorchVision version: 0.18.1\n",
      "tqdm version: 4.66.4\n",
      "lmdb version: NOT INSTALLED or UNKNOWN VERSION.\n",
      "psutil version: 5.9.0\n",
      "pandas version: 2.2.2\n",
      "einops version: NOT INSTALLED or UNKNOWN VERSION.\n",
      "transformers version: NOT INSTALLED or UNKNOWN VERSION.\n",
      "mlflow version: NOT INSTALLED or UNKNOWN VERSION.\n",
      "pynrrd version: NOT INSTALLED or UNKNOWN VERSION.\n",
      "clearml version: NOT INSTALLED or UNKNOWN VERSION.\n",
      "\n",
      "For details about installing the optional dependencies, please visit:\n",
      "    https://docs.monai.io/en/latest/installation.html#installing-the-recommended-dependencies\n",
      "\n"
     ]
    }
   ],
   "source": [
    "import logging\n",
    "import numpy as np\n",
    "import os\n",
    "from pathlib import Path\n",
    "import sys\n",
    "import tempfile\n",
    "import torch\n",
    "\n",
    "from monai.apps import MedNISTDataset\n",
    "from monai.config import print_config\n",
    "from monai.data import DataLoader\n",
    "from monai.engines import SupervisedTrainer\n",
    "from monai.handlers import StatsHandler\n",
    "from monai.inferers import SimpleInferer\n",
    "from monai.networks import eval_mode\n",
    "from monai.networks.nets import densenet121\n",
    "from monai.transforms import LoadImageD, EnsureChannelFirstD, ScaleIntensityD, Compose\n",
    "\n",
    "print_config()"
   ]
  },
  {
   "attachments": {},
   "cell_type": "markdown",
   "metadata": {},
   "source": [
    "## Setup data directory\n",
    "\n",
    "You can specify a directory with the `MONAI_DATA_DIRECTORY` environment variable.  \n",
    "This allows you to save results and reuse downloads.  \n",
    "If not specified a temporary directory will be used."
   ]
  },
  {
   "cell_type": "code",
   "execution_count": 3,
   "metadata": {},
   "outputs": [],
   "source": [
    "fixed_directory = \"./MONAI_DATA_DIRECTORY\"\n",
    "os.environ[\"MONAI_DATA_DIRECTORY\"] = fixed_directory"
   ]
  },
  {
   "cell_type": "code",
   "execution_count": 4,
   "metadata": {},
   "outputs": [
    {
     "name": "stdout",
     "output_type": "stream",
     "text": [
      "./MONAI_DATA_DIRECTORY\n"
     ]
    }
   ],
   "source": [
    "directory = os.environ.get(\"MONAI_DATA_DIRECTORY\")\n",
    "if directory is not None:\n",
    "    os.makedirs(directory, exist_ok=True)\n",
    "root_dir = tempfile.mkdtemp() if directory is None else directory\n",
    "print(root_dir)"
   ]
  },
  {
   "attachments": {},
   "cell_type": "markdown",
   "metadata": {},
   "source": [
    "## Use MONAI transforms to preprocess data\n",
    "\n",
    "Medical images require specialized methods for I/O, preprocessing, and augmentation.\n",
    "They often follow specific formats, are handled with specific protocols, and the data arrays are often high-dimensional.\n",
    "\n",
    "In this example, we will perform image loading, data format verification, and intensity scaling with three `monai.transforms` listed below, and compose a pipeline ready to be used in next steps."
   ]
  },
  {
   "cell_type": "code",
   "execution_count": 5,
   "metadata": {},
   "outputs": [],
   "source": [
    "transform = Compose(\n",
    "    [\n",
    "        LoadImageD(keys=\"image\", image_only=True),\n",
    "        EnsureChannelFirstD(keys=\"image\"),\n",
    "        ScaleIntensityD(keys=\"image\"),\n",
    "    ]\n",
    ")"
   ]
  },
  {
   "attachments": {},
   "cell_type": "markdown",
   "metadata": {},
   "source": [
    "## Prepare datasets using MONAI Apps\n",
    "\n",
    "We use `MedNISTDataset` in MONAI Apps to download a dataset to the specified directory and perform the pre-processing steps in the `monai.transforms` compose.\n",
    "\n",
    "The MedNIST dataset was gathered from several sets from [TCIA](https://wiki.cancerimagingarchive.net/display/Public/Data+Usage+Policies+and+Restrictions),\n",
    "[the RSNA Bone Age Challenge](http://rsnachallenges.cloudapp.net/competitions/4),\n",
    "and [the NIH Chest X-ray dataset](https://cloud.google.com/healthcare/docs/resources/public-datasets/nih-chest).\n",
    "\n",
    "The dataset is kindly made available by [Dr. Bradley J. Erickson M.D., Ph.D.](https://www.mayo.edu/research/labs/radiology-informatics/overview) (Department of Radiology, Mayo Clinic)\n",
    "under the Creative Commons [CC BY-SA 4.0 license](https://creativecommons.org/licenses/by-sa/4.0/).\n",
    "\n",
    "If you use the MedNIST dataset, please acknowledge the source. "
   ]
  },
  {
   "cell_type": "code",
   "execution_count": 6,
   "metadata": {},
   "outputs": [
    {
     "name": "stdout",
     "output_type": "stream",
     "text": [
      "2024-07-15 23:07:57,802 - INFO - Verified 'MedNIST.tar.gz', md5: 0bc7306e7427e00ad1c5526a6677552d.\n",
      "2024-07-15 23:07:57,803 - INFO - File exists: MONAI_DATA_DIRECTORY/MedNIST.tar.gz, skipped downloading.\n",
      "2024-07-15 23:07:57,804 - INFO - Non-empty folder exists in MONAI_DATA_DIRECTORY/MedNIST, skipped extracting.\n"
     ]
    },
    {
     "name": "stderr",
     "output_type": "stream",
     "text": [
      "Loading dataset: 100%|██████████| 47164/47164 [00:17<00:00, 2731.63it/s]\n"
     ]
    }
   ],
   "source": [
    "dataset = MedNISTDataset(root_dir=root_dir, transform=transform, section=\"training\", download=True)"
   ]
  },
  {
   "attachments": {},
   "cell_type": "markdown",
   "metadata": {},
   "source": [
    "## Define a network and a supervised trainer\n",
    "\n",
    "To train a model that can perform the classification task, we will use the DenseNet-121 which is known for its performance on the ImageNet dataset.\n",
    "\n",
    "For a typical supervised training workflow, MONAI provides `SupervisedTrainer` to define the hyper-parameters."
   ]
  },
  {
   "cell_type": "code",
   "execution_count": 7,
   "metadata": {},
   "outputs": [],
   "source": [
    "max_epochs = 1\n",
    "model = densenet121(spatial_dims=2, in_channels=1, out_channels=6).to(\"cpu\")\n",
    "\n",
    "logging.basicConfig(stream=sys.stdout, level=logging.INFO)\n",
    "trainer = SupervisedTrainer(\n",
    "    device=torch.device(\"cpu\"),\n",
    "    max_epochs=max_epochs,\n",
    "    train_data_loader=DataLoader(dataset, batch_size=512, shuffle=True),\n",
    "    network=model,\n",
    "    optimizer=torch.optim.Adam(model.parameters(), lr=1e-5),\n",
    "    loss_function=torch.nn.CrossEntropyLoss(),\n",
    "    inferer=SimpleInferer(),\n",
    "    train_handlers=StatsHandler(),\n",
    ")"
   ]
  },
  {
   "attachments": {},
   "cell_type": "markdown",
   "metadata": {},
   "source": [
    "## Run the training"
   ]
  },
  {
   "cell_type": "code",
   "execution_count": 8,
   "metadata": {},
   "outputs": [
    {
     "name": "stdout",
     "output_type": "stream",
     "text": [
      "INFO:ignite.engine.engine.SupervisedTrainer:Engine run resuming from iteration 0, epoch 0 until 1 epochs\n",
      "2024-07-15 23:08:34,246 - INFO - Epoch: 1/1, Iter: 1/93 -- label: 2.0000 loss: 1.7947 \n"
     ]
    },
    {
     "name": "stderr",
     "output_type": "stream",
     "text": [
      "/opt/anaconda3/envs/monai/lib/python3.12/site-packages/monai/handlers/stats_handler.py:261: UserWarning: ignoring non-scalar output in StatsHandler, make sure `output_transform(engine.state.output)` returns a scalar or dictionary of key and scalar pairs to avoid this warning. image:<class 'monai.data.meta_tensor.MetaTensor'>\n",
      "  warnings.warn(\n",
      "/opt/anaconda3/envs/monai/lib/python3.12/site-packages/monai/handlers/stats_handler.py:261: UserWarning: ignoring non-scalar output in StatsHandler, make sure `output_transform(engine.state.output)` returns a scalar or dictionary of key and scalar pairs to avoid this warning. pred:<class 'monai.data.meta_tensor.MetaTensor'>\n",
      "  warnings.warn(\n"
     ]
    },
    {
     "name": "stdout",
     "output_type": "stream",
     "text": [
      "2024-07-15 23:08:49,976 - INFO - Epoch: 1/1, Iter: 2/93 -- label: 2.0000 loss: 1.7637 \n",
      "2024-07-15 23:09:04,199 - INFO - Epoch: 1/1, Iter: 3/93 -- label: 2.0000 loss: 1.7185 \n",
      "2024-07-15 23:09:18,214 - INFO - Epoch: 1/1, Iter: 4/93 -- label: 5.0000 loss: 1.6923 \n",
      "2024-07-15 23:09:32,858 - INFO - Epoch: 1/1, Iter: 5/93 -- label: 3.0000 loss: 1.6888 \n",
      "2024-07-15 23:09:47,289 - INFO - Epoch: 1/1, Iter: 6/93 -- label: 2.0000 loss: 1.6413 \n",
      "2024-07-15 23:10:01,871 - INFO - Epoch: 1/1, Iter: 7/93 -- label: 3.0000 loss: 1.6160 \n",
      "2024-07-15 23:10:16,533 - INFO - Epoch: 1/1, Iter: 8/93 -- label: 3.0000 loss: 1.5998 \n",
      "2024-07-15 23:10:33,538 - INFO - Epoch: 1/1, Iter: 9/93 -- label: 4.0000 loss: 1.5853 \n",
      "2024-07-15 23:10:48,513 - INFO - Epoch: 1/1, Iter: 10/93 -- label: 4.0000 loss: 1.5376 \n",
      "2024-07-15 23:11:04,267 - INFO - Epoch: 1/1, Iter: 11/93 -- label: 3.0000 loss: 1.4985 \n",
      "2024-07-15 23:11:21,448 - INFO - Epoch: 1/1, Iter: 12/93 -- label: 2.0000 loss: 1.4925 \n",
      "2024-07-15 23:11:39,762 - INFO - Epoch: 1/1, Iter: 13/93 -- label: 0.0000 loss: 1.4675 \n",
      "2024-07-15 23:11:59,487 - INFO - Epoch: 1/1, Iter: 14/93 -- label: 0.0000 loss: 1.4321 \n",
      "2024-07-15 23:12:18,185 - INFO - Epoch: 1/1, Iter: 15/93 -- label: 2.0000 loss: 1.4248 \n",
      "2024-07-15 23:12:36,572 - INFO - Epoch: 1/1, Iter: 16/93 -- label: 2.0000 loss: 1.3990 \n",
      "2024-07-15 23:12:54,146 - INFO - Epoch: 1/1, Iter: 17/93 -- label: 1.0000 loss: 1.3332 \n",
      "2024-07-15 23:13:12,917 - INFO - Epoch: 1/1, Iter: 18/93 -- label: 0.0000 loss: 1.3252 \n",
      "2024-07-15 23:13:30,646 - INFO - Epoch: 1/1, Iter: 19/93 -- label: 5.0000 loss: 1.3187 \n",
      "2024-07-15 23:13:49,093 - INFO - Epoch: 1/1, Iter: 20/93 -- label: 5.0000 loss: 1.3157 \n",
      "2024-07-15 23:14:07,875 - INFO - Epoch: 1/1, Iter: 21/93 -- label: 0.0000 loss: 1.3021 \n",
      "2024-07-15 23:14:25,675 - INFO - Epoch: 1/1, Iter: 22/93 -- label: 3.0000 loss: 1.2296 \n",
      "2024-07-15 23:14:43,358 - INFO - Epoch: 1/1, Iter: 23/93 -- label: 0.0000 loss: 1.2287 \n",
      "2024-07-15 23:15:00,800 - INFO - Epoch: 1/1, Iter: 24/93 -- label: 1.0000 loss: 1.1899 \n",
      "2024-07-15 23:15:18,379 - INFO - Epoch: 1/1, Iter: 25/93 -- label: 0.0000 loss: 1.1633 \n",
      "2024-07-15 23:15:37,112 - INFO - Epoch: 1/1, Iter: 26/93 -- label: 3.0000 loss: 1.1636 \n",
      "2024-07-15 23:15:55,139 - INFO - Epoch: 1/1, Iter: 27/93 -- label: 5.0000 loss: 1.1653 \n",
      "2024-07-15 23:16:13,234 - INFO - Epoch: 1/1, Iter: 28/93 -- label: 1.0000 loss: 1.1212 \n",
      "2024-07-15 23:16:31,598 - INFO - Epoch: 1/1, Iter: 29/93 -- label: 4.0000 loss: 1.0985 \n",
      "2024-07-15 23:16:49,858 - INFO - Epoch: 1/1, Iter: 30/93 -- label: 1.0000 loss: 1.0703 \n",
      "2024-07-15 23:17:07,522 - INFO - Epoch: 1/1, Iter: 31/93 -- label: 0.0000 loss: 1.0833 \n",
      "2024-07-15 23:17:25,154 - INFO - Epoch: 1/1, Iter: 32/93 -- label: 3.0000 loss: 1.0205 \n",
      "2024-07-15 23:17:44,338 - INFO - Epoch: 1/1, Iter: 33/93 -- label: 2.0000 loss: 1.0360 \n",
      "2024-07-15 23:18:03,407 - INFO - Epoch: 1/1, Iter: 34/93 -- label: 4.0000 loss: 1.0259 \n",
      "2024-07-15 23:18:23,030 - INFO - Epoch: 1/1, Iter: 35/93 -- label: 4.0000 loss: 0.9973 \n",
      "2024-07-15 23:18:41,345 - INFO - Epoch: 1/1, Iter: 36/93 -- label: 2.0000 loss: 0.9753 \n",
      "2024-07-15 23:18:59,301 - INFO - Epoch: 1/1, Iter: 37/93 -- label: 5.0000 loss: 0.9759 \n",
      "2024-07-15 23:19:18,351 - INFO - Epoch: 1/1, Iter: 38/93 -- label: 2.0000 loss: 0.9320 \n",
      "2024-07-15 23:19:37,922 - INFO - Epoch: 1/1, Iter: 39/93 -- label: 4.0000 loss: 0.9218 \n",
      "2024-07-15 23:19:58,156 - INFO - Epoch: 1/1, Iter: 40/93 -- label: 2.0000 loss: 0.8875 \n",
      "2024-07-15 23:20:18,139 - INFO - Epoch: 1/1, Iter: 41/93 -- label: 3.0000 loss: 0.9052 \n",
      "2024-07-15 23:20:38,153 - INFO - Epoch: 1/1, Iter: 42/93 -- label: 5.0000 loss: 0.8957 \n",
      "2024-07-15 23:20:58,048 - INFO - Epoch: 1/1, Iter: 43/93 -- label: 1.0000 loss: 0.8629 \n",
      "2024-07-15 23:21:19,011 - INFO - Epoch: 1/1, Iter: 44/93 -- label: 4.0000 loss: 0.8410 \n",
      "2024-07-15 23:21:40,010 - INFO - Epoch: 1/1, Iter: 45/93 -- label: 1.0000 loss: 0.8271 \n",
      "2024-07-15 23:22:01,891 - INFO - Epoch: 1/1, Iter: 46/93 -- label: 1.0000 loss: 0.8433 \n",
      "2024-07-15 23:22:23,431 - INFO - Epoch: 1/1, Iter: 47/93 -- label: 4.0000 loss: 0.8390 \n",
      "2024-07-15 23:22:42,750 - INFO - Epoch: 1/1, Iter: 48/93 -- label: 4.0000 loss: 0.8246 \n",
      "2024-07-15 23:23:02,521 - INFO - Epoch: 1/1, Iter: 49/93 -- label: 3.0000 loss: 0.7954 \n",
      "2024-07-15 23:23:21,375 - INFO - Epoch: 1/1, Iter: 50/93 -- label: 1.0000 loss: 0.7635 \n",
      "2024-07-15 23:23:40,175 - INFO - Epoch: 1/1, Iter: 51/93 -- label: 5.0000 loss: 0.7550 \n",
      "2024-07-15 23:24:25,690 - INFO - Epoch: 1/1, Iter: 52/93 -- label: 2.0000 loss: 0.7568 \n",
      "2024-07-15 23:24:42,467 - INFO - Epoch: 1/1, Iter: 53/93 -- label: 5.0000 loss: 0.7121 \n",
      "2024-07-15 23:24:56,249 - INFO - Epoch: 1/1, Iter: 54/93 -- label: 2.0000 loss: 0.7241 \n",
      "2024-07-15 23:26:49,850 - INFO - Epoch: 1/1, Iter: 55/93 -- label: 4.0000 loss: 0.6846 \n",
      "2024-07-15 23:27:05,649 - INFO - Epoch: 1/1, Iter: 56/93 -- label: 5.0000 loss: 0.7029 \n",
      "2024-07-15 23:27:21,405 - INFO - Epoch: 1/1, Iter: 57/93 -- label: 4.0000 loss: 0.6674 \n",
      "2024-07-15 23:27:36,947 - INFO - Epoch: 1/1, Iter: 58/93 -- label: 2.0000 loss: 0.6631 \n",
      "2024-07-15 23:27:51,397 - INFO - Epoch: 1/1, Iter: 59/93 -- label: 0.0000 loss: 0.6597 \n",
      "2024-07-15 23:28:06,021 - INFO - Epoch: 1/1, Iter: 60/93 -- label: 4.0000 loss: 0.6823 \n",
      "2024-07-15 23:28:20,865 - INFO - Epoch: 1/1, Iter: 61/93 -- label: 4.0000 loss: 0.6328 \n",
      "2024-07-15 23:28:35,650 - INFO - Epoch: 1/1, Iter: 62/93 -- label: 0.0000 loss: 0.6008 \n",
      "2024-07-15 23:28:51,155 - INFO - Epoch: 1/1, Iter: 63/93 -- label: 3.0000 loss: 0.5913 \n",
      "2024-07-15 23:29:07,049 - INFO - Epoch: 1/1, Iter: 64/93 -- label: 2.0000 loss: 0.6236 \n",
      "2024-07-15 23:29:24,837 - INFO - Epoch: 1/1, Iter: 65/93 -- label: 4.0000 loss: 0.5827 \n",
      "2024-07-15 23:29:45,201 - INFO - Epoch: 1/1, Iter: 66/93 -- label: 0.0000 loss: 0.6093 \n",
      "2024-07-15 23:30:05,562 - INFO - Epoch: 1/1, Iter: 67/93 -- label: 3.0000 loss: 0.5866 \n",
      "2024-07-15 23:30:25,499 - INFO - Epoch: 1/1, Iter: 68/93 -- label: 0.0000 loss: 0.5707 \n",
      "2024-07-15 23:30:44,160 - INFO - Epoch: 1/1, Iter: 69/93 -- label: 2.0000 loss: 0.5784 \n",
      "2024-07-15 23:31:02,990 - INFO - Epoch: 1/1, Iter: 70/93 -- label: 2.0000 loss: 0.5421 \n",
      "2024-07-15 23:31:21,333 - INFO - Epoch: 1/1, Iter: 71/93 -- label: 2.0000 loss: 0.5088 \n",
      "2024-07-15 23:31:39,558 - INFO - Epoch: 1/1, Iter: 72/93 -- label: 2.0000 loss: 0.5447 \n",
      "2024-07-15 23:31:58,624 - INFO - Epoch: 1/1, Iter: 73/93 -- label: 0.0000 loss: 0.5118 \n",
      "2024-07-15 23:32:17,464 - INFO - Epoch: 1/1, Iter: 74/93 -- label: 0.0000 loss: 0.4816 \n",
      "2024-07-15 23:32:36,009 - INFO - Epoch: 1/1, Iter: 75/93 -- label: 0.0000 loss: 0.5023 \n",
      "2024-07-15 23:32:55,484 - INFO - Epoch: 1/1, Iter: 76/93 -- label: 3.0000 loss: 0.4885 \n",
      "2024-07-15 23:33:15,032 - INFO - Epoch: 1/1, Iter: 77/93 -- label: 2.0000 loss: 0.4943 \n",
      "2024-07-15 23:33:36,636 - INFO - Epoch: 1/1, Iter: 78/93 -- label: 3.0000 loss: 0.4632 \n",
      "2024-07-15 23:33:56,833 - INFO - Epoch: 1/1, Iter: 79/93 -- label: 0.0000 loss: 0.4607 \n",
      "2024-07-15 23:34:16,597 - INFO - Epoch: 1/1, Iter: 80/93 -- label: 1.0000 loss: 0.4645 \n",
      "2024-07-15 23:34:37,088 - INFO - Epoch: 1/1, Iter: 81/93 -- label: 5.0000 loss: 0.4523 \n",
      "2024-07-15 23:34:58,126 - INFO - Epoch: 1/1, Iter: 82/93 -- label: 4.0000 loss: 0.4685 \n",
      "2024-07-15 23:35:19,662 - INFO - Epoch: 1/1, Iter: 83/93 -- label: 5.0000 loss: 0.4296 \n",
      "2024-07-15 23:35:40,409 - INFO - Epoch: 1/1, Iter: 84/93 -- label: 3.0000 loss: 0.4465 \n",
      "2024-07-15 23:36:01,467 - INFO - Epoch: 1/1, Iter: 85/93 -- label: 1.0000 loss: 0.4302 \n",
      "2024-07-15 23:36:21,973 - INFO - Epoch: 1/1, Iter: 86/93 -- label: 3.0000 loss: 0.4093 \n",
      "2024-07-15 23:36:42,468 - INFO - Epoch: 1/1, Iter: 87/93 -- label: 0.0000 loss: 0.4308 \n",
      "2024-07-15 23:37:03,897 - INFO - Epoch: 1/1, Iter: 88/93 -- label: 4.0000 loss: 0.3971 \n",
      "2024-07-15 23:37:25,590 - INFO - Epoch: 1/1, Iter: 89/93 -- label: 2.0000 loss: 0.4161 \n",
      "2024-07-15 23:37:47,724 - INFO - Epoch: 1/1, Iter: 90/93 -- label: 5.0000 loss: 0.4077 \n",
      "2024-07-15 23:38:10,725 - INFO - Epoch: 1/1, Iter: 91/93 -- label: 4.0000 loss: 0.3821 \n",
      "2024-07-15 23:38:33,627 - INFO - Epoch: 1/1, Iter: 92/93 -- label: 3.0000 loss: 0.3605 \n",
      "2024-07-15 23:38:36,070 - INFO - Epoch: 1/1, Iter: 93/93 -- label: 0.0000 loss: 0.4380 \n",
      "INFO:ignite.engine.engine.SupervisedTrainer:Epoch[1] Complete. Time taken: 00:30:20.592\n",
      "INFO:ignite.engine.engine.SupervisedTrainer:Engine run complete. Time taken: 00:30:20.595\n"
     ]
    }
   ],
   "source": [
    "trainer.run()"
   ]
  },
  {
   "attachments": {},
   "cell_type": "markdown",
   "metadata": {},
   "source": [
    "## Check the prediction on the test dataset"
   ]
  },
  {
   "cell_type": "code",
   "execution_count": 9,
   "metadata": {},
   "outputs": [
    {
     "name": "stdout",
     "output_type": "stream",
     "text": [
      "Class prediction is AbdomenCT. Ground-truth: AbdomenCT\n",
      "Class prediction is BreastMRI. Ground-truth: BreastMRI\n",
      "Class prediction is ChestCT. Ground-truth: ChestCT\n",
      "Class prediction is CXR. Ground-truth: CXR\n",
      "Class prediction is Hand. Ground-truth: Hand\n",
      "Class prediction is HeadCT. Ground-truth: HeadCT\n",
      "Class prediction is HeadCT. Ground-truth: HeadCT\n",
      "Class prediction is CXR. Ground-truth: CXR\n",
      "Class prediction is ChestCT. Ground-truth: ChestCT\n",
      "Class prediction is BreastMRI. Ground-truth: BreastMRI\n"
     ]
    }
   ],
   "source": [
    "dataset_dir = Path(root_dir, \"MedNIST\")\n",
    "class_names = sorted(f\"{x.name}\" for x in dataset_dir.iterdir() if x.is_dir())\n",
    "testdata = MedNISTDataset(root_dir=root_dir, transform=transform, section=\"test\", download=False, runtime_cache=True)\n",
    "\n",
    "max_items_to_print = 10\n",
    "with eval_mode(model):\n",
    "    for item in DataLoader(testdata, batch_size=1):\n",
    "        prob = np.array(model(item[\"image\"].to(\"cpu\")).detach().to(\"cpu\"))[0]\n",
    "        pred = class_names[prob.argmax()]\n",
    "        gt = item[\"class_name\"][0]\n",
    "        print(f\"Class prediction is {pred}. Ground-truth: {gt}\")\n",
    "        max_items_to_print -= 1\n",
    "        if max_items_to_print == 0:\n",
    "            break"
   ]
  }
 ],
 "metadata": {
  "kernelspec": {
   "display_name": "Python 3",
   "language": "python",
   "name": "python3"
  },
  "language_info": {
   "codemirror_mode": {
    "name": "ipython",
    "version": 3
   },
   "file_extension": ".py",
   "mimetype": "text/x-python",
   "name": "python",
   "nbconvert_exporter": "python",
   "pygments_lexer": "ipython3",
   "version": "3.12.4"
  }
 },
 "nbformat": 4,
 "nbformat_minor": 2
}
